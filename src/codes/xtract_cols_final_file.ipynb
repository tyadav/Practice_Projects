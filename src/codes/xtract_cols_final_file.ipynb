{
 "cells": [
  {
   "cell_type": "code",
   "execution_count": 27,
   "metadata": {},
   "outputs": [],
   "source": [
    "# Importing required packages \n",
    "import pandas as pd\n",
    "import os \n",
    "import csv"
   ]
  },
  {
   "cell_type": "code",
   "execution_count": 28,
   "metadata": {},
   "outputs": [],
   "source": [
    "# Function to get all the paths for a particular file name. Checks all the directories and sub-directories \n",
    "\n",
    "def get_paths(folder_name,file_name):\n",
    "    \n",
    "    folder_path = \"C:/Users/Tej Yadav/Desktop/V codes/Data Files for Machine Learning/\"+(folder_name)+\"/\" # folder path \n",
    "\n",
    "    all_paths = []\n",
    "    \n",
    "    for r, d, f in os.walk(folder_path):\n",
    "        for file in f:\n",
    "            if (file_name) in file:\n",
    "                all_paths.append(os.path.join(r, file))\n",
    "   \n",
    "    return all_paths"
   ]
  },
  {
   "cell_type": "code",
   "execution_count": 29,
   "metadata": {},
   "outputs": [],
   "source": [
    "# Function to generate new column names in case of multiple files with same attribute - format : filename_attributename\n",
    "\n",
    "def new_columns(fname,cnames):\n",
    "    new_cnames = []\n",
    "    for i in cnames:\n",
    "        new_cnames.append(fname+\"_\"+i)\n",
    "    return new_cnames"
   ]
  },
  {
   "cell_type": "code",
   "execution_count": 36,
   "metadata": {},
   "outputs": [],
   "source": [
    "# To generate the output file for a particular file name present in a folder named folder name and extract attributes defined by \n",
    "# attribute name \n",
    "\n",
    "# output file format - main_dir_path + sheet_dir_path + input_file_name.csv\n",
    "def generate_file(folder_name,file_names,attribute_name,input_name):\n",
    "    \n",
    "    dframe_file = pd.DataFrame()\n",
    "    output_dframe = pd.DataFrame()\n",
    "    \n",
    "    attribute_name = attribute_name.encode('utf-8')\n",
    "    attribute_name = attribute_name.strip()\n",
    "    attribute_names = attribute_name.split(\"\\n\")\n",
    "    \n",
    "        \n",
    "    for fname in file_names:\n",
    "        all_paths_files = get_paths(folder_name,fname)   # get all possible paths for a folder and file name\n",
    "        \n",
    "        if len(file_names)>1:\n",
    "            temp_fname = fname.replace(\".csv\",\"\")\n",
    "            new_attribute_names = new_columns(temp_fname,attribute_names)  # get attributes as file_name_attribute_name for multiple files with same attribute names\n",
    "\n",
    "        for j in range(len(all_paths_files)):  \n",
    "            dframe = pd.read_csv(all_paths_files[j])\n",
    "            \n",
    "            if j == 0:\n",
    "                dframe_file = dframe.loc[:,attribute_names]\n",
    "                \n",
    "\n",
    "                if len(file_names)>1:\n",
    "                    dframe_file.columns = new_attribute_names\n",
    "            else:\n",
    "                # append to same data frame for multiple files available with different dates\n",
    "                \n",
    "                temp_df = dframe.loc[:,attribute_names] \n",
    "                \n",
    "                if len(file_names)>1:\n",
    "                    temp_df.columns = new_attribute_names\n",
    "                dframe_file = dframe_file.append(temp_df,ignore_index=True)\n",
    "                \n",
    "        output_dframe = pd.concat([output_dframe,dframe_file],axis=1)\n",
    "        \n",
    "    return output_dframe    "
   ]
  },
  {
   "cell_type": "code",
   "execution_count": 37,
   "metadata": {},
   "outputs": [],
   "source": [
    "# Function that uses other functions to extract all the attributes and stores output data frame corresponding to each sheet \n",
    "# in a list\n",
    "\n",
    "def extract_cols(sheets,output_dataframes_list):\n",
    "    \n",
    "    for sheet_name in sheets:\n",
    "        print(sheet_name)\n",
    "        \n",
    "        dframe_sheet = pd.read_excel(xls,sheetname=sheet_name)\n",
    "        records,cols = (dframe_sheet.shape)\n",
    "\n",
    "        dframe_for_each_sheet = pd.DataFrame()\n",
    "        result_df = pd.DataFrame()\n",
    "\n",
    "        for i in range(0,records):\n",
    "\n",
    "            folder_name = str(dframe_sheet.loc[i,'Folder Name'])\n",
    "            file_name = str(dframe_sheet.loc[i,'File Name'])\n",
    "            file_names = file_name.split(\"\\n\")\n",
    "            attribute_name = (dframe_sheet.loc[i,'Column Name'])\n",
    "            input_name = str(dframe_sheet.loc[i,'Inputs'])\n",
    "            if isinstance(attribute_name, unicode) and folder_name != ' ' and folder_name != 'nan' and file_name != ' ' and file_name != 'nan':\n",
    "          \n",
    "                                    \n",
    "                result_df = generate_file(folder_name,file_names,attribute_name,input_name) # returns for each file name in a sheet\n",
    "\n",
    "                dframe_for_each_sheet = pd.concat([dframe_for_each_sheet,result_df],axis=1) # concat acc to each sheet\n",
    "\n",
    "        final_records,final_cols=(dframe_for_each_sheet.shape)\n",
    "\n",
    "        output_dataframes_list.append(dframe_for_each_sheet)  # appending to output list\n",
    "\n",
    "        print(\"Number of attributes in the sheet : \"+str(final_cols))"
   ]
  },
  {
   "cell_type": "code",
   "execution_count": 38,
   "metadata": {},
   "outputs": [],
   "source": [
    "# To read input xlsx file - input workbook - Extract file.xlsx\n",
    "input_file_path = 'C:/Users/Tej Yadav/Desktop/V codes/WIP_system_pumpV0.1.xlsx'  # Path to input file \n",
    "xls = pd.ExcelFile(input_file_path)"
   ]
  },
  {
   "cell_type": "code",
   "execution_count": 39,
   "metadata": {},
   "outputs": [
    {
     "name": "stdout",
     "output_type": "stream",
     "text": [
      "['System Pump', 'System Pump1', 'System Pump2', 'System Pump3', 'System Pump4', 'System Pump5', 'System Pump6', 'System Pump7', 'System Pump8']\n"
     ]
    }
   ],
   "source": [
    "# Getting names of all the worksheets from input workbook \n",
    "\n",
    "all_sheet_names = xls.sheet_names\n",
    "print(all_sheet_names)"
   ]
  },
  {
   "cell_type": "code",
   "execution_count": 40,
   "metadata": {},
   "outputs": [
    {
     "name": "stdout",
     "output_type": "stream",
     "text": [
      "System Pump\n"
     ]
    },
    {
     "name": "stderr",
     "output_type": "stream",
     "text": [
      "C:\\ProgramData\\Anaconda3\\lib\\site-packages\\pandas\\util\\_decorators.py:118: FutureWarning: The `sheetname` keyword is deprecated, use `sheet_name` instead\n",
      "  return func(*args, **kwargs)\n"
     ]
    },
    {
     "ename": "NameError",
     "evalue": "name 'unicode' is not defined",
     "output_type": "error",
     "traceback": [
      "\u001b[1;31m---------------------------------------------------------------------------\u001b[0m",
      "\u001b[1;31mNameError\u001b[0m                                 Traceback (most recent call last)",
      "\u001b[1;32m<ipython-input-40-0c59fcea7d02>\u001b[0m in \u001b[0;36m<module>\u001b[1;34m()\u001b[0m\n\u001b[0;32m      1\u001b[0m \u001b[1;31m# Calling function for considering all the sheets in the input workbook\u001b[0m\u001b[1;33m\u001b[0m\u001b[1;33m\u001b[0m\u001b[0m\n\u001b[0;32m      2\u001b[0m \u001b[0moutput_dataframes_list\u001b[0m \u001b[1;33m=\u001b[0m \u001b[1;33m[\u001b[0m\u001b[1;33m]\u001b[0m    \u001b[1;31m# list of data frames according to number of sheets\u001b[0m\u001b[1;33m\u001b[0m\u001b[0m\n\u001b[1;32m----> 3\u001b[1;33m \u001b[0mextract_cols\u001b[0m\u001b[1;33m(\u001b[0m\u001b[0mall_sheet_names\u001b[0m\u001b[1;33m,\u001b[0m\u001b[0moutput_dataframes_list\u001b[0m\u001b[1;33m)\u001b[0m\u001b[1;33m\u001b[0m\u001b[0m\n\u001b[0m",
      "\u001b[1;32m<ipython-input-37-bc676e874462>\u001b[0m in \u001b[0;36mextract_cols\u001b[1;34m(sheets, output_dataframes_list)\u001b[0m\n\u001b[0;32m     20\u001b[0m             \u001b[0mattribute_name\u001b[0m \u001b[1;33m=\u001b[0m \u001b[1;33m(\u001b[0m\u001b[0mdframe_sheet\u001b[0m\u001b[1;33m.\u001b[0m\u001b[0mloc\u001b[0m\u001b[1;33m[\u001b[0m\u001b[0mi\u001b[0m\u001b[1;33m,\u001b[0m\u001b[1;34m'Column Name'\u001b[0m\u001b[1;33m]\u001b[0m\u001b[1;33m)\u001b[0m\u001b[1;33m\u001b[0m\u001b[0m\n\u001b[0;32m     21\u001b[0m             \u001b[0minput_name\u001b[0m \u001b[1;33m=\u001b[0m \u001b[0mstr\u001b[0m\u001b[1;33m(\u001b[0m\u001b[0mdframe_sheet\u001b[0m\u001b[1;33m.\u001b[0m\u001b[0mloc\u001b[0m\u001b[1;33m[\u001b[0m\u001b[0mi\u001b[0m\u001b[1;33m,\u001b[0m\u001b[1;34m'Inputs'\u001b[0m\u001b[1;33m]\u001b[0m\u001b[1;33m)\u001b[0m\u001b[1;33m\u001b[0m\u001b[0m\n\u001b[1;32m---> 22\u001b[1;33m             \u001b[1;32mif\u001b[0m \u001b[0misinstance\u001b[0m\u001b[1;33m(\u001b[0m\u001b[0mattribute_name\u001b[0m\u001b[1;33m,\u001b[0m \u001b[0municode\u001b[0m\u001b[1;33m)\u001b[0m \u001b[1;32mand\u001b[0m \u001b[0mfolder_name\u001b[0m \u001b[1;33m!=\u001b[0m \u001b[1;34m' '\u001b[0m \u001b[1;32mand\u001b[0m \u001b[0mfolder_name\u001b[0m \u001b[1;33m!=\u001b[0m \u001b[1;34m'nan'\u001b[0m \u001b[1;32mand\u001b[0m \u001b[0mfile_name\u001b[0m \u001b[1;33m!=\u001b[0m \u001b[1;34m' '\u001b[0m \u001b[1;32mand\u001b[0m \u001b[0mfile_name\u001b[0m \u001b[1;33m!=\u001b[0m \u001b[1;34m'nan'\u001b[0m\u001b[1;33m:\u001b[0m\u001b[1;33m\u001b[0m\u001b[0m\n\u001b[0m\u001b[0;32m     23\u001b[0m \u001b[1;33m\u001b[0m\u001b[0m\n\u001b[0;32m     24\u001b[0m \u001b[1;33m\u001b[0m\u001b[0m\n",
      "\u001b[1;31mNameError\u001b[0m: name 'unicode' is not defined"
     ]
    }
   ],
   "source": [
    "# Calling function for considering all the sheets in the input workbook\n",
    "output_dataframes_list = []    # list of data frames according to number of sheets \n",
    "extract_cols(all_sheet_names,output_dataframes_list) "
   ]
  },
  {
   "cell_type": "code",
   "execution_count": null,
   "metadata": {},
   "outputs": [],
   "source": [
    "# Writing the data corresponding to each sheet in xlsx file named output.xlsx - gets saved on desktop. \n",
    "print(\"Writing to output file !\")\n",
    "from openpyxl import load_workbook\n",
    "\n",
    "output_file_path = 'C:/Users/Tej Yadav/Desktop/output.xlsx'  # output file path \n",
    "writer = pd.ExcelWriter(output_file_path, engine = 'openpyxl')\n",
    "\n",
    "for i in range(len(all_sheet_names)):\n",
    "    #print(output_dataframes_list[i].columns)\n",
    "    output_dataframes_list[i].to_excel(writer,sheet_name=all_sheet_names[i],encoding='utf-8',index = False)\n",
    "\n",
    "writer.save()\n",
    "writer.close()\n",
    "print(\"File saved successfully !\")"
   ]
  },
  {
   "cell_type": "code",
   "execution_count": null,
   "metadata": {},
   "outputs": [],
   "source": []
  }
 ],
 "metadata": {
  "kernelspec": {
   "display_name": "Python 3",
   "language": "python",
   "name": "python3"
  },
  "language_info": {
   "codemirror_mode": {
    "name": "ipython",
    "version": 3
   },
   "file_extension": ".py",
   "mimetype": "text/x-python",
   "name": "python",
   "nbconvert_exporter": "python",
   "pygments_lexer": "ipython3",
   "version": "3.6.4"
  }
 },
 "nbformat": 4,
 "nbformat_minor": 2
}
