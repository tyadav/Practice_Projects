{
 "cells": [
  {
   "cell_type": "code",
   "execution_count": 1,
   "metadata": {},
   "outputs": [],
   "source": [
    "#Import libraries (AES and SHA256)\n",
    "import pandas as pd\n",
    "from Crypto.Cipher import AES\n",
    "from Crypto.Hash import SHA256"
   ]
  },
  {
   "cell_type": "code",
   "execution_count": 2,
   "metadata": {},
   "outputs": [],
   "source": [
    "# create a password (i.e. key required to encrypt/decrypt)\n",
    "password = \"9UoZdcaw@keyE8c=\"\n",
    "hash_obj = SHA256.new(password.encode('utf-8'))\n",
    "hkey = hash_obj.digest()"
   ]
  },
  {
   "cell_type": "code",
   "execution_count": 3,
   "metadata": {},
   "outputs": [],
   "source": [
    "# Let's define a function 'encrypt'\n",
    "def encrypt(info):\n",
    "    msg = info\n",
    "    BLOCK_SIZE = 16\n",
    "    PAD = \"{\"\n",
    "    padding = lambda s: s + (BLOCK_SIZE - len(s) % BLOCK_SIZE) * PAD\n",
    "    cipher = AES.new(hkey, AES.MODE_ECB)\n",
    "    result = cipher.encrypt(padding(msg).encode('utf-8'))\n",
    "    return result "
   ]
  },
  {
   "cell_type": "code",
   "execution_count": 4,
   "metadata": {},
   "outputs": [
    {
     "name": "stdout",
     "output_type": "stream",
     "text": [
      "b'p~E\\xa7\\x94d\\x1d\\xdd\\xf4\\x84\\xf8\\x9e\\xc1G8\\xc0'\n"
     ]
    }
   ],
   "source": [
    "# Write message which we need to encrypt\n",
    "msg = \" I love coding\"\n",
    "cipher_text = encrypt(msg)\n",
    "print(cipher_text)"
   ]
  },
  {
   "cell_type": "code",
   "execution_count": 5,
   "metadata": {},
   "outputs": [],
   "source": [
    "# Create an output file\n",
    "file1 = open(\"out5.txt\",\"wb\")\n",
    "file1.write(cipher_text)\n",
    "file1.close()\n",
    "file2 = open(\"cert.txt\",\"w\")\n",
    "file2.write(password);\n",
    "file2.close()\n",
    "with open(\"out2.txt\", \"w\") as text_file:\n",
    "    print(cipher_text, file=text_file)"
   ]
  },
  {
   "cell_type": "code",
   "execution_count": 6,
   "metadata": {},
   "outputs": [],
   "source": [
    "# Function to decrypt\n",
    "def decrypt(info):\n",
    "    #password = \"dcaw@key\"\n",
    "    file2 = open(\"cert.txt\",\"r\")\n",
    "    cert = file2.read()\n",
    "    hash_obj = SHA256.new(cert.encode('utf-8'))\n",
    "    BLOCK_SIZE = 16\n",
    "    hkey = hash_obj.digest()\n",
    "    msg1 = info\n",
    "    PAD = \"{\"\n",
    "    decipher = AES.new(hkey, AES.MODE_ECB)\n",
    "    pt = decipher.decrypt((msg1)).decode('utf-8')\n",
    "    pad_index = pt.find(PAD)\n",
    "    result = pt[: pad_index]\n",
    "    return result"
   ]
  },
  {
   "cell_type": "code",
   "execution_count": 7,
   "metadata": {},
   "outputs": [
    {
     "name": "stdout",
     "output_type": "stream",
     "text": [
      "b'p~E\\xa7\\x94d\\x1d\\xdd\\xf4\\x84\\xf8\\x9e\\xc1G8\\xc0'\n"
     ]
    }
   ],
   "source": [
    "file1 = open(\"out5.txt\",\"rb\")\n",
    "content1 = file1.read()\n",
    "print(content1)"
   ]
  },
  {
   "cell_type": "code",
   "execution_count": 8,
   "metadata": {},
   "outputs": [
    {
     "name": "stdout",
     "output_type": "stream",
     "text": [
      " I love coding\n",
      "Valid\n"
     ]
    }
   ],
   "source": [
    "# Now decrypt \n",
    "plaintext = decrypt(content1)\n",
    "print(plaintext)\n",
    "if msg==plaintext:\n",
    "    print(\"Valid\")\n",
    "else:\n",
    "    print(\"Invalid\")"
   ]
  },
  {
   "cell_type": "code",
   "execution_count": null,
   "metadata": {},
   "outputs": [],
   "source": []
  }
 ],
 "metadata": {
  "kernelspec": {
   "display_name": "Python 3",
   "language": "python",
   "name": "python3"
  },
  "language_info": {
   "codemirror_mode": {
    "name": "ipython",
    "version": 3
   },
   "file_extension": ".py",
   "mimetype": "text/x-python",
   "name": "python",
   "nbconvert_exporter": "python",
   "pygments_lexer": "ipython3",
   "version": "3.7.6"
  }
 },
 "nbformat": 4,
 "nbformat_minor": 4
}
